{
  "nbformat": 4,
  "nbformat_minor": 0,
  "metadata": {
    "colab": {
      "provenance": [],
      "authorship_tag": "ABX9TyMKp00CiLouUdcAE76kHh9r",
      "include_colab_link": true
    },
    "kernelspec": {
      "name": "python3",
      "display_name": "Python 3"
    },
    "language_info": {
      "name": "python"
    }
  },
  "cells": [
    {
      "cell_type": "markdown",
      "metadata": {
        "id": "view-in-github",
        "colab_type": "text"
      },
      "source": [
        "<a href=\"https://colab.research.google.com/github/IgorMatias04/AulasIA03/blob/main/AulaIA3_1.ipynb\" target=\"_parent\"><img src=\"https://colab.research.google.com/assets/colab-badge.svg\" alt=\"Open In Colab\"/></a>"
      ]
    },
    {
      "cell_type": "code",
      "execution_count": 1,
      "metadata": {
        "id": "Fwiz8dbOcfYi"
      },
      "outputs": [],
      "source": [
        "import numpy as np"
      ]
    },
    {
      "cell_type": "code",
      "source": [
        "a = np.array([12,34,26,18,10])\n",
        "\n",
        "print(a)\n",
        "print(a.dtype)"
      ],
      "metadata": {
        "colab": {
          "base_uri": "https://localhost:8080/"
        },
        "id": "hBKf3aOoftq8",
        "outputId": "05dcf14b-2466-4dde-e4f9-5b21528a9d26"
      },
      "execution_count": 2,
      "outputs": [
        {
          "output_type": "stream",
          "name": "stdout",
          "text": [
            "[12 34 26 18 10]\n",
            "int64\n"
          ]
        }
      ]
    },
    {
      "cell_type": "code",
      "source": [
        "a1 = np.array([1, 2, 3], dtype = np.float64)\n",
        "\n",
        "print(a1)\n",
        "print(a1.dtype)\n",
        "a2 = np.array([1, 2, 3], dtype = np.int32)\n",
        "\n",
        "print(a2)\n",
        "print(a2.dtype)"
      ],
      "metadata": {
        "colab": {
          "base_uri": "https://localhost:8080/"
        },
        "id": "XZEqACqsfxVD",
        "outputId": "053fdb83-44e4-475e-ae82-1a2b2834c061"
      },
      "execution_count": 3,
      "outputs": [
        {
          "output_type": "stream",
          "name": "stdout",
          "text": [
            "[1. 2. 3.]\n",
            "float64\n",
            "[1 2 3]\n",
            "int32\n"
          ]
        }
      ]
    },
    {
      "cell_type": "code",
      "source": [
        "a3 = np.array([1.4, 3.6, -5.1, 9.42, 4.999999])\n",
        "\n",
        "print(a3)\n",
        "print(a3.dtype)\n",
        "\n",
        "a4 = a3.astype(np.int32)\n",
        "\n",
        "print(a4)\n",
        "print(a4.dtype)\n",
        "\n",
        "a5 = np.array([1, 2, 3, 4])\n",
        "print(a5)\n",
        "print(a5.dtype)\n",
        "a6 = a5.astype(float)\n",
        "\n",
        "print(a6)\n",
        "print(a6.dtype)"
      ],
      "metadata": {
        "colab": {
          "base_uri": "https://localhost:8080/"
        },
        "id": "c_SHmEC3f-m7",
        "outputId": "863e719e-e669-4c31-d29a-27066889cb0b"
      },
      "execution_count": 4,
      "outputs": [
        {
          "output_type": "stream",
          "name": "stdout",
          "text": [
            "[ 1.4       3.6      -5.1       9.42      4.999999]\n",
            "float64\n",
            "[ 1  3 -5  9  4]\n",
            "int32\n",
            "[1 2 3 4]\n",
            "int64\n",
            "[1. 2. 3. 4.]\n",
            "float64\n"
          ]
        }
      ]
    },
    {
      "cell_type": "code",
      "source": [
        "b = np.array([[7,2,23],[12,27,4],[5,34,23]])\n",
        "\n",
        "print(b)"
      ],
      "metadata": {
        "colab": {
          "base_uri": "https://localhost:8080/"
        },
        "id": "fqbJHSnSgfyn",
        "outputId": "3729a2de-522d-4006-d5ff-0f7e825eac06"
      },
      "execution_count": 5,
      "outputs": [
        {
          "output_type": "stream",
          "name": "stdout",
          "text": [
            "[[ 7  2 23]\n",
            " [12 27  4]\n",
            " [ 5 34 23]]\n"
          ]
        }
      ]
    },
    {
      "cell_type": "code",
      "source": [],
      "metadata": {
        "id": "VcQs4dV_i28R"
      },
      "execution_count": null,
      "outputs": []
    }
  ]
}
