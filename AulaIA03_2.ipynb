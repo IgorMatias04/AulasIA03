{
  "nbformat": 4,
  "nbformat_minor": 0,
  "metadata": {
    "colab": {
      "provenance": [],
      "authorship_tag": "ABX9TyM3me5AH41HbMdsBj0bw5iD",
      "include_colab_link": true
    },
    "kernelspec": {
      "name": "python3",
      "display_name": "Python 3"
    },
    "language_info": {
      "name": "python"
    }
  },
  "cells": [
    {
      "cell_type": "markdown",
      "metadata": {
        "id": "view-in-github",
        "colab_type": "text"
      },
      "source": [
        "<a href=\"https://colab.research.google.com/github/IgorMatias04/AulasIA03/blob/main/AulaIA03_2.ipynb\" target=\"_parent\"><img src=\"https://colab.research.google.com/assets/colab-badge.svg\" alt=\"Open In Colab\"/></a>"
      ]
    },
    {
      "cell_type": "code",
      "execution_count": 1,
      "metadata": {
        "id": "vzj3NUKRjNn7"
      },
      "outputs": [],
      "source": [
        "import numpy as np"
      ]
    },
    {
      "cell_type": "code",
      "source": [
        "c = np.empty([3,2], dtype = int)\n",
        "print(c)"
      ],
      "metadata": {
        "colab": {
          "base_uri": "https://localhost:8080/"
        },
        "id": "GuZNfw77kQUv",
        "outputId": "3d399a1d-59f3-40db-e55f-ded76da00ace"
      },
      "execution_count": 5,
      "outputs": [
        {
          "output_type": "stream",
          "name": "stdout",
          "text": [
            "[[56385424        0]\n",
            " [       0        0]\n",
            " [       0        0]]\n"
          ]
        }
      ]
    },
    {
      "cell_type": "code",
      "source": [
        "d = np.zeros([4,3])\n",
        "print(d)"
      ],
      "metadata": {
        "colab": {
          "base_uri": "https://localhost:8080/"
        },
        "id": "cFTMmwCJka6o",
        "outputId": "f29f4e06-2a3f-4eba-b3c5-b0b344a4f7e6"
      },
      "execution_count": 6,
      "outputs": [
        {
          "output_type": "stream",
          "name": "stdout",
          "text": [
            "[[0. 0. 0.]\n",
            " [0. 0. 0.]\n",
            " [0. 0. 0.]\n",
            " [0. 0. 0.]]\n"
          ]
        }
      ]
    },
    {
      "cell_type": "code",
      "source": [
        "e= np.ones([5,7])\n",
        "print(e)"
      ],
      "metadata": {
        "colab": {
          "base_uri": "https://localhost:8080/"
        },
        "id": "h1BQrMvylLhn",
        "outputId": "8454f496-5749-4068-ec8d-ae03814c357d"
      },
      "execution_count": 7,
      "outputs": [
        {
          "output_type": "stream",
          "name": "stdout",
          "text": [
            "[[1. 1. 1. 1. 1. 1. 1.]\n",
            " [1. 1. 1. 1. 1. 1. 1.]\n",
            " [1. 1. 1. 1. 1. 1. 1.]\n",
            " [1. 1. 1. 1. 1. 1. 1.]\n",
            " [1. 1. 1. 1. 1. 1. 1.]]\n"
          ]
        }
      ]
    },
    {
      "cell_type": "code",
      "source": [
        "f = np.eye(5)\n",
        "print(f)"
      ],
      "metadata": {
        "colab": {
          "base_uri": "https://localhost:8080/"
        },
        "id": "UZ6rzVmtlUrn",
        "outputId": "d9b77ecc-8fbf-40ea-e090-10004cb63148"
      },
      "execution_count": 8,
      "outputs": [
        {
          "output_type": "stream",
          "name": "stdout",
          "text": [
            "[[1. 0. 0. 0. 0.]\n",
            " [0. 1. 0. 0. 0.]\n",
            " [0. 0. 1. 0. 0.]\n",
            " [0. 0. 0. 1. 0.]\n",
            " [0. 0. 0. 0. 1.]]\n"
          ]
        }
      ]
    },
    {
      "cell_type": "code",
      "source": [
        "g = np.random.random ((5))\n",
        "print(g)"
      ],
      "metadata": {
        "colab": {
          "base_uri": "https://localhost:8080/"
        },
        "id": "3gPAtb5-lmh3",
        "outputId": "416030d7-afc2-4909-c1b9-7109e9cef02c"
      },
      "execution_count": 9,
      "outputs": [
        {
          "output_type": "stream",
          "name": "stdout",
          "text": [
            "[0.41651069 0.66255057 0.33289506 0.11795843 0.91205241]\n"
          ]
        }
      ]
    },
    {
      "cell_type": "code",
      "source": [
        "g2 = np.random.randn ((5))\n",
        "print(g2)"
      ],
      "metadata": {
        "colab": {
          "base_uri": "https://localhost:8080/"
        },
        "id": "GdNFxA-jlxAu",
        "outputId": "5c27791b-3acb-415b-8bbe-34b18e462657"
      },
      "execution_count": 10,
      "outputs": [
        {
          "output_type": "stream",
          "name": "stdout",
          "text": [
            "[ 0.90570867 -0.53968636 -0.7544409   0.93546498 -0.40483291]\n"
          ]
        }
      ]
    },
    {
      "cell_type": "code",
      "source": [
        "h = np.floor(10*np.random.random ((3,4)))\n",
        "print(h)\n",
        "h = (10*np.random.random((3,4)))\n",
        "print(h)\n",
        "h = np.floor(h)\n",
        "print(h)"
      ],
      "metadata": {
        "colab": {
          "base_uri": "https://localhost:8080/"
        },
        "id": "I_GUydKimB1I",
        "outputId": "5b6367d1-94ed-4bff-e055-55eba97d94cc"
      },
      "execution_count": 11,
      "outputs": [
        {
          "output_type": "stream",
          "name": "stdout",
          "text": [
            "[[2. 3. 4. 2.]\n",
            " [8. 3. 9. 5.]\n",
            " [9. 8. 7. 5.]]\n",
            "[[4.54552441 7.32750288 7.62923199 5.75968685]\n",
            " [7.55310012 7.77124481 3.89179377 0.77510007]\n",
            " [8.48501185 3.26442603 7.76264663 6.94041612]]\n",
            "[[4. 7. 7. 5.]\n",
            " [7. 7. 3. 0.]\n",
            " [8. 3. 7. 6.]]\n"
          ]
        }
      ]
    },
    {
      "cell_type": "code",
      "source": [
        "gnr = np.random.default_rng(0)\n",
        "i = gnr.random(3)\n",
        "print (i)"
      ],
      "metadata": {
        "colab": {
          "base_uri": "https://localhost:8080/"
        },
        "id": "CyWsmgQfmpzH",
        "outputId": "22dfca5e-3f0a-4317-fc8a-80b1ed5621b9"
      },
      "execution_count": 12,
      "outputs": [
        {
          "output_type": "stream",
          "name": "stdout",
          "text": [
            "[0.63696169 0.26978671 0.04097352]\n"
          ]
        }
      ]
    },
    {
      "cell_type": "code",
      "source": [
        "i = gnr.integers(10, size=(3, 4))\n",
        "print(i)"
      ],
      "metadata": {
        "colab": {
          "base_uri": "https://localhost:8080/"
        },
        "id": "OQfID3HtwCFI",
        "outputId": "f2e4e32b-6b8e-4b04-c9ae-1c82c0a6ca96"
      },
      "execution_count": 13,
      "outputs": [
        {
          "output_type": "stream",
          "name": "stdout",
          "text": [
            "[[0 0 1 8]\n",
            " [6 9 5 6]\n",
            " [9 7 6 5]]\n"
          ]
        }
      ]
    },
    {
      "cell_type": "code",
      "source": [
        "j = np.array([11, 12, 13, 14, 15, 16, 17, 12, 13, 11, 18, 19, 20])\n",
        "j = np.unique(j)\n",
        "print(j)"
      ],
      "metadata": {
        "colab": {
          "base_uri": "https://localhost:8080/"
        },
        "id": "pIl-dQyRwPWA",
        "outputId": "7e5db383-85a3-499c-b448-90c8ea17bdc5"
      },
      "execution_count": 14,
      "outputs": [
        {
          "output_type": "stream",
          "name": "stdout",
          "text": [
            "[11 12 13 14 15 16 17 18 19 20]\n"
          ]
        }
      ]
    },
    {
      "cell_type": "code",
      "source": [
        "k = np.array([[17,22,43],[27,25,14],[15,24,32]])\n",
        "print(k)\n",
        "\n",
        "print(k[0][1])\n",
        "\n",
        "print(k.shape)\n",
        "\n",
        "print(k.max())\n",
        "\n",
        "print(k.min())\n",
        "\n",
        "print((k.sum()))\n",
        "\n",
        "print(k.mean())\n",
        "\n",
        "print(k.std())"
      ],
      "metadata": {
        "colab": {
          "base_uri": "https://localhost:8080/"
        },
        "id": "-T1lbheGwSWw",
        "outputId": "8043719c-a86d-46d4-ca60-772845df5ac3"
      },
      "execution_count": 15,
      "outputs": [
        {
          "output_type": "stream",
          "name": "stdout",
          "text": [
            "[[17 22 43]\n",
            " [27 25 14]\n",
            " [15 24 32]]\n",
            "22\n",
            "(3, 3)\n",
            "43\n",
            "14\n",
            "219\n",
            "24.333333333333332\n",
            "8.615231988880057\n"
          ]
        }
      ]
    },
    {
      "cell_type": "code",
      "source": [],
      "metadata": {
        "id": "wEWnDkovwb84"
      },
      "execution_count": null,
      "outputs": []
    }
  ]
}