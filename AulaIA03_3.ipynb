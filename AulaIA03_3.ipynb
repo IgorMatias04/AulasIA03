{
  "nbformat": 4,
  "nbformat_minor": 0,
  "metadata": {
    "colab": {
      "provenance": [],
      "authorship_tag": "ABX9TyN1xvRJNq0kYE45gaTcBz6D",
      "include_colab_link": true
    },
    "kernelspec": {
      "name": "python3",
      "display_name": "Python 3"
    },
    "language_info": {
      "name": "python"
    }
  },
  "cells": [
    {
      "cell_type": "markdown",
      "metadata": {
        "id": "view-in-github",
        "colab_type": "text"
      },
      "source": [
        "<a href=\"https://colab.research.google.com/github/IgorMatias04/AulasIA03/blob/main/AulaIA03_3.ipynb\" target=\"_parent\"><img src=\"https://colab.research.google.com/assets/colab-badge.svg\" alt=\"Open In Colab\"/></a>"
      ]
    },
    {
      "cell_type": "code",
      "source": [
        "import numpy as np\n"
      ],
      "metadata": {
        "id": "I34AexVbxIUv"
      },
      "execution_count": 2,
      "outputs": []
    },
    {
      "cell_type": "code",
      "source": [
        "k1 = np.array([1, 4, 9, 16, 25, 36])\n",
        "print(np.sqrt(k1))\n",
        "\n",
        "print(np.exp(k1))"
      ],
      "metadata": {
        "colab": {
          "base_uri": "https://localhost:8080/"
        },
        "id": "UVJLv1YpxRUK",
        "outputId": "0427094e-e56f-4c57-e4a9-157b5654adf8"
      },
      "execution_count": 3,
      "outputs": [
        {
          "output_type": "stream",
          "name": "stdout",
          "text": [
            "[1. 2. 3. 4. 5. 6.]\n",
            "[2.71828183e+00 5.45981500e+01 8.10308393e+03 8.88611052e+06\n",
            " 7.20048993e+10 4.31123155e+15]\n"
          ]
        }
      ]
    },
    {
      "cell_type": "code",
      "source": [
        "l = np.array([[4, 5], [6, 1], [7, 4]])\n",
        "print(l)\n",
        "\n",
        "l_linha_1 = l[0, :]\n",
        "print(l_linha_1)\n",
        "\n",
        "l_linha_2 = l[1, :]\n",
        "print(l_linha_2)\n",
        "\n",
        "l_linha_3 = l[2, :]\n",
        "print(l_linha_3)\n",
        "\n",
        "l_coluna_1 = l[:, 0]\n",
        "print(l_coluna_1)\n",
        "\n",
        "l_coluna_2 = l[:, 1]\n",
        "print(l_coluna_2)"
      ],
      "metadata": {
        "colab": {
          "base_uri": "https://localhost:8080/"
        },
        "id": "vsxwJSvJxTDh",
        "outputId": "b14f896d-1c3f-4a2e-e24f-2d8b3945d30c"
      },
      "execution_count": 4,
      "outputs": [
        {
          "output_type": "stream",
          "name": "stdout",
          "text": [
            "[[4 5]\n",
            " [6 1]\n",
            " [7 4]]\n",
            "[4 5]\n",
            "[6 1]\n",
            "[7 4]\n",
            "[4 6 7]\n",
            "[5 1 4]\n"
          ]
        }
      ]
    },
    {
      "cell_type": "code",
      "source": [
        "m = np.array([1, 2, 3, 4, 5, 6])\n",
        "print(m[1])\n",
        "\n",
        "print(m[0:2])\n",
        "\n",
        "print(m[1:])\n",
        "\n",
        "print(m[-3:])"
      ],
      "metadata": {
        "colab": {
          "base_uri": "https://localhost:8080/"
        },
        "id": "mRVNo6LYxjg5",
        "outputId": "2d1aaa20-afc0-48b6-ae31-3427f67fd21d"
      },
      "execution_count": 5,
      "outputs": [
        {
          "output_type": "stream",
          "name": "stdout",
          "text": [
            "2\n",
            "[1 2]\n",
            "[2 3 4 5 6]\n",
            "[4 5 6]\n"
          ]
        }
      ]
    },
    {
      "cell_type": "code",
      "source": [
        "n = np.array([[1, 2], [3, 4]])\n",
        "o = np.array([[1, 1], [1, 1]])\n",
        "res1 = n+o\n",
        "print(res1)\n",
        "\n",
        "res2 = n*o\n",
        "print(res2)"
      ],
      "metadata": {
        "colab": {
          "base_uri": "https://localhost:8080/"
        },
        "id": "xhNAjyO2xrsj",
        "outputId": "741f7181-7860-457c-dc6d-83dc392e002a"
      },
      "execution_count": 6,
      "outputs": [
        {
          "output_type": "stream",
          "name": "stdout",
          "text": [
            "[[2 3]\n",
            " [4 5]]\n",
            "[[1 2]\n",
            " [3 4]]\n"
          ]
        }
      ]
    },
    {
      "cell_type": "code",
      "source": [
        "p = np.array([[1, 2], [3, 4], [5, 6]])\n",
        "q = np.array([[2, 1]])\n",
        "print(p+q)"
      ],
      "metadata": {
        "colab": {
          "base_uri": "https://localhost:8080/"
        },
        "id": "F-1TbhUCxyxR",
        "outputId": "fbe17d94-439d-4783-dd78-55960941c991"
      },
      "execution_count": 7,
      "outputs": [
        {
          "output_type": "stream",
          "name": "stdout",
          "text": [
            "[[3 3]\n",
            " [5 5]\n",
            " [7 7]]\n"
          ]
        }
      ]
    },
    {
      "cell_type": "code",
      "source": [
        "r = np.arange(15).reshape((3, 5))\n",
        "\n",
        "print(r)\n",
        "\n",
        "s = r.T\n",
        "print(s)"
      ],
      "metadata": {
        "colab": {
          "base_uri": "https://localhost:8080/"
        },
        "id": "gTE_bpSSx0Qh",
        "outputId": "839cb911-9905-4d77-ab8e-2c9855478fa7"
      },
      "execution_count": 8,
      "outputs": [
        {
          "output_type": "stream",
          "name": "stdout",
          "text": [
            "[[ 0  1  2  3  4]\n",
            " [ 5  6  7  8  9]\n",
            " [10 11 12 13 14]]\n",
            "[[ 0  5 10]\n",
            " [ 1  6 11]\n",
            " [ 2  7 12]\n",
            " [ 3  8 13]\n",
            " [ 4  9 14]]\n"
          ]
        }
      ]
    },
    {
      "cell_type": "code",
      "source": [
        "r = np.arange(15).reshape((3, 5))\n",
        "\n",
        "print(r)\n",
        "\n",
        "s = r.transpose((1,0))\n",
        "print(s)"
      ],
      "metadata": {
        "colab": {
          "base_uri": "https://localhost:8080/"
        },
        "id": "VsVfU67Ix5RR",
        "outputId": "47a4aee6-ecc8-4e6f-8381-40d9d7e99cf4"
      },
      "execution_count": 9,
      "outputs": [
        {
          "output_type": "stream",
          "name": "stdout",
          "text": [
            "[[ 0  1  2  3  4]\n",
            " [ 5  6  7  8  9]\n",
            " [10 11 12 13 14]]\n",
            "[[ 0  5 10]\n",
            " [ 1  6 11]\n",
            " [ 2  7 12]\n",
            " [ 3  8 13]\n",
            " [ 4  9 14]]\n"
          ]
        }
      ]
    },
    {
      "cell_type": "code",
      "source": [
        "t = np.arange(16).reshape((2, 2, 4))\n",
        "print(t)\n",
        "\n",
        "u = t.transpose((1, 0, 2))\n",
        "print(u)"
      ],
      "metadata": {
        "colab": {
          "base_uri": "https://localhost:8080/"
        },
        "id": "5yF8PZ6wx8zh",
        "outputId": "c3482db9-5d38-49d2-d62c-4260501dff33"
      },
      "execution_count": 10,
      "outputs": [
        {
          "output_type": "stream",
          "name": "stdout",
          "text": [
            "[[[ 0  1  2  3]\n",
            "  [ 4  5  6  7]]\n",
            "\n",
            " [[ 8  9 10 11]\n",
            "  [12 13 14 15]]]\n",
            "[[[ 0  1  2  3]\n",
            "  [ 8  9 10 11]]\n",
            "\n",
            " [[ 4  5  6  7]\n",
            "  [12 13 14 15]]]\n"
          ]
        }
      ]
    },
    {
      "cell_type": "code",
      "source": [
        "t = np.arange(16).reshape((2, 2, 4))\n",
        "print(t)\n",
        "u = t.swapaxes(1, 2)\n",
        "print(u)"
      ],
      "metadata": {
        "colab": {
          "base_uri": "https://localhost:8080/"
        },
        "id": "G0Hq33tAyAn5",
        "outputId": "998d0246-2389-4fd4-b8a5-ec831338ad28"
      },
      "execution_count": 11,
      "outputs": [
        {
          "output_type": "stream",
          "name": "stdout",
          "text": [
            "[[[ 0  1  2  3]\n",
            "  [ 4  5  6  7]]\n",
            "\n",
            " [[ 8  9 10 11]\n",
            "  [12 13 14 15]]]\n",
            "[[[ 0  4]\n",
            "  [ 1  5]\n",
            "  [ 2  6]\n",
            "  [ 3  7]]\n",
            "\n",
            " [[ 8 12]\n",
            "  [ 9 13]\n",
            "  [10 14]\n",
            "  [11 15]]]\n"
          ]
        }
      ]
    },
    {
      "cell_type": "code",
      "source": [
        "v = np.random.randn(4, 4)\n",
        "print(v)\n",
        "\n",
        "x = (v > 0)\n",
        "print(x)\n",
        "\n",
        "z = np.where(x > 0, 1, -1)\n",
        "print(z)"
      ],
      "metadata": {
        "colab": {
          "base_uri": "https://localhost:8080/"
        },
        "id": "iH71hKsoyCbB",
        "outputId": "be53ecb8-c112-44af-f016-a197d01578a9"
      },
      "execution_count": 12,
      "outputs": [
        {
          "output_type": "stream",
          "name": "stdout",
          "text": [
            "[[ 0.3021981   0.66746807  0.25711752 -1.07216109]\n",
            " [ 0.06495    -1.3233864   1.50503498  1.38759492]\n",
            " [-0.57443898  0.72738515 -0.07124843  1.09856788]\n",
            " [ 0.77818822  1.95127307  0.17771786  0.5708104 ]]\n",
            "[[ True  True  True False]\n",
            " [ True False  True  True]\n",
            " [False  True False  True]\n",
            " [ True  True  True  True]]\n",
            "[[ 1  1  1 -1]\n",
            " [ 1 -1  1  1]\n",
            " [-1  1 -1  1]\n",
            " [ 1  1  1  1]]\n"
          ]
        }
      ]
    },
    {
      "cell_type": "code",
      "source": [],
      "metadata": {
        "id": "J5eofUSryHPY"
      },
      "execution_count": null,
      "outputs": []
    }
  ]
}